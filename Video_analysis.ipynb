{
  "nbformat": 4,
  "nbformat_minor": 0,
  "metadata": {
    "colab": {
      "provenance": []
    },
    "kernelspec": {
      "name": "python3",
      "display_name": "Python 3"
    },
    "language_info": {
      "name": "python"
    }
  },
  "cells": [
    {
      "cell_type": "code",
      "source": [
        "from google.colab import userdata\n",
        "GOOGLE_API_KEY=userdata.get('GOOGLE_API_KEY')"
      ],
      "metadata": {
        "id": "HN_krQ8UgWQW"
      },
      "execution_count": null,
      "outputs": []
    },
    {
      "cell_type": "code",
      "source": [
        "from google import genai\n",
        "from google.genai import types"
      ],
      "metadata": {
        "id": "6i0DW0N0iM-M"
      },
      "execution_count": null,
      "outputs": []
    },
    {
      "cell_type": "code",
      "source": [
        "client = genai.Client(api_key=GOOGLE_API_KEY)"
      ],
      "metadata": {
        "id": "6cWqvxOpiVC9"
      },
      "execution_count": null,
      "outputs": []
    },
    {
      "cell_type": "markdown",
      "source": [
        "#### Summarize Video"
      ],
      "metadata": {
        "id": "7c8lKRi639Sh"
      }
    },
    {
      "cell_type": "code",
      "source": [
        "response = client.models.generate_content(\n",
        "    model='models/gemini-2.5-flash-preview-05-20',\n",
        "    contents=types.Content(\n",
        "        parts=[\n",
        "            types.Part(\n",
        "                file_data=types.FileData(file_uri='https://www.youtube.com/watch?v=LGoWBxoI85U')\n",
        "            ),\n",
        "            types.Part(text='Please summarize the video in 3 sentences.')\n",
        "        ]\n",
        "    )\n",
        ")"
      ],
      "metadata": {
        "id": "LV4EgH29dMhT"
      },
      "execution_count": null,
      "outputs": []
    },
    {
      "cell_type": "code",
      "source": [
        "print(response.text)"
      ],
      "metadata": {
        "colab": {
          "base_uri": "https://localhost:8080/"
        },
        "id": "pWGrTnaidysE",
        "outputId": "d8f225d6-089c-4b9b-fa7a-b36787ff66da"
      },
      "execution_count": null,
      "outputs": [
        {
          "output_type": "stream",
          "name": "stdout",
          "text": [
            "Digital, AI, and transformation projects frequently stall, delay, or derail due to issues like scope creep, technical debt, and stakeholder misalignment, with a significant majority failing to achieve their intended goals according to industry reports. For any organization undertaking these initiatives, recovery is not optional but mission-critical to avoid burning time, eroding trust, and draining capital. The Project Turnaround Sprint (PTS) offers a focused intervention framework to diagnose problems, realign teams, and regain momentum, making it an essential capability for various stakeholders from C-suites to project owners.\n"
          ]
        }
      ]
    },
    {
      "cell_type": "markdown",
      "source": [
        "#### Gathering insights from the video"
      ],
      "metadata": {
        "id": "362nUyMXeWGL"
      }
    },
    {
      "cell_type": "code",
      "source": [
        "response = client.models.generate_content(\n",
        "    model='models/gemini-2.5-flash-preview-05-20',\n",
        "    contents=types.Content(\n",
        "        parts=[\n",
        "            types.Part(\n",
        "                file_data=types.FileData(file_uri='https://www.youtube.com/watch?v=LGoWBxoI85U')\n",
        "            ),\n",
        "            types.Part(text='What are the examples given at 00:20 and 00:40 supposed to show us?')\n",
        "        ]\n",
        "    )\n",
        ")"
      ],
      "metadata": {
        "id": "Pm2YKKSadMcy"
      },
      "execution_count": null,
      "outputs": []
    },
    {
      "cell_type": "code",
      "source": [
        "print(response.text)"
      ],
      "metadata": {
        "colab": {
          "base_uri": "https://localhost:8080/"
        },
        "id": "sKbSgX-SeVi3",
        "outputId": "a0666d29-c9cb-449d-f271-b7ca4dc85863"
      },
      "execution_count": null,
      "outputs": [
        {
          "output_type": "stream",
          "name": "stdout",
          "text": [
            "At 00:20, the speaker lists **common challenges or issues that lead to digital, AI, and transformation projects stalling, delaying, or derailing**. These include:\n",
            "*   Scope creep\n",
            "*   Tech debt\n",
            "*   Stakeholder misalignment\n",
            "\n",
            "These are meant to illustrate *why* projects become \"broken\" and highlight the urgent need for intervention.\n",
            "\n",
            "At 00:40, the speaker describes the **key functions or benefits of the Project Turnaround Sprint (PTS)**. These are:\n",
            "*   Diagnose issues\n",
            "*   Realign team\n",
            "*   Recover momentum\n",
            "\n",
            "These examples are meant to show *how* PTS provides a solution to the problems mentioned earlier, specifically by offering a focused intervention framework to fix troubled projects and get them back on track.\n"
          ]
        }
      ]
    },
    {
      "cell_type": "markdown",
      "source": [
        "#### Transcribe audio and fetch visual descriptions"
      ],
      "metadata": {
        "id": "_Ne8yBtgemHj"
      }
    },
    {
      "cell_type": "code",
      "source": [
        "response = client.models.generate_content(\n",
        "    model='models/gemini-2.5-flash-preview-05-20',\n",
        "    contents=types.Content(\n",
        "        parts=[\n",
        "            types.Part(\n",
        "                file_data=types.FileData(file_uri='https://www.youtube.com/watch?v=LGoWBxoI85U')\n",
        "            ),\n",
        "            types.Part(text='Transcribe the audio from this video, giving timestamps for salient events in the video. Also provide visual descriptions.')\n",
        "        ]\n",
        "    )\n",
        ")"
      ],
      "metadata": {
        "collapsed": true,
        "id": "YAciIq1uiRQt"
      },
      "execution_count": null,
      "outputs": []
    },
    {
      "cell_type": "code",
      "source": [
        "print(response.text)"
      ],
      "metadata": {
        "colab": {
          "base_uri": "https://localhost:8080/"
        },
        "id": "mwb6X7rzjgGP",
        "outputId": "ae51bcbd-0bc6-41b2-cc35-5f452ee0ab28"
      },
      "execution_count": null,
      "outputs": [
        {
          "output_type": "stream",
          "name": "stdout",
          "text": [
            "The following is a detailed log of events from the video, including spoken content and visual descriptions:\n",
            "\n",
            "[ 00:00:00 ] **Visual:** The screen displays a dark blue background with a large text box on the right. The title of the text box is \"Fixing the Broken: Why Project Turnaround Capabilities Are Essential\". Below the title, there are three paragraphs of text. On the left, there is a circular graphic made of yellow dots on a dark blue background, labeled \"Complex Made Simple\". To its right, a 2x2 grid with cells labeled \"Medium Complex\", \"High Complex\", \"Non Complex\", and \"Complex Complex\". This grid has \"Project Chaos\" on the side and \"Project Methods\" on the bottom. At the bottom, a \"Confidential\" label is visible.\n",
            "[ 00:00:00 ] **Audio:** Fix the broken.\n",
            "\n",
            "[ 00:00:04 ] **Audio:** Why project turn around capabilities are essential.\n",
            "\n",
            "[ 00:00:07 ] **Audio:** When digital transformation AI project install, derail or delay, recovery isn't luxury. It's mission critical.\n",
            "\n",
            "[ 00:00:16 ] **Audio:** Today, innovation led programs are under siege from scope creep, technical depth, and stakeholder misalignment.\n",
            "\n",
            "[ 00:00:23 ] **Audio:** Without timely intervention, most project burn time, erode trust and drain capital.\n",
            "\n",
            "[ 00:00:30 ] **Audio:** This is where project turn around sprint PTS steps in.\n",
            "\n",
            "[ 00:00:36 ] **Audio:** A strategic focused intervention model that diagnosis issues, realign team, and rebuild momentum fast.\n",
            "\n",
            "[ 00:00:44 ] **Visual:** The slide changes. The background is still dark blue. At the top, there's a yellow bar with the text \"Strategic Turn-Around for Project Recovery & Realignment\" and \"Digital Transformation and AI Initiative Challenges - 2025\". Below it, several bullet points provide statistics from Gartner and Boston Consulting Group about the failure rates of digital transformation and AI initiatives.\n",
            "[ 00:00:44 ] **Audio:** Let the numbers speak. 70% of digital transformation initiative failed to meet their intended goal.\n",
            "\n",
            "[ 00:00:51 ] **Audio:** 42% of businesses abandoned their AI effort.\n",
            "\n",
            "[ 00:00:56 ] **Audio:** Nearly half of AI pilot never reach production.\n",
            "\n",
            "[ 00:01:00 ] **Audio:** Even top-tier enterprises struggle. According to Gartner, only 48% of digital program hit their target.\n",
            "\n",
            "[ 00:01:09 ] **Audio:** BCG report that just 16% of transformation truly deliver sustainable performance.\n",
            "\n",
            "[ 00:01:14 ] **Visual:** The slide changes again. The previous slide's content and the graphic from the first slide are faintly visible in the background, creating a layered effect. A yellow bar at the top reads \"Project Turn-Around Sprint (PTS)\" and \"Who needs PTS?\". Below it, a list of bullet points identifies various groups that could benefit from PTS.\n",
            "[ 00:01:14 ] **Audio:** So who needs PTS?\n",
            "\n",
            "[ 00:01:19 ] **Audio:** Boardroom losing visibility, startup stuck in delivery chaos, government program facing public scrutiny, tech leaders trying to regain control.\n",
            "\n",
            "[ 00:01:31 ] **Audio:** VCs and investors watching potential fate or consultancy and integrators firefighting client dissatisfaction.\n",
            "\n",
            "[ 00:01:38 ] **Audio:** PTS is not just a framework. It's critical capability for anyone responsible for turning failure into forward momentum.\n",
            "\n",
            "[ 00:01:47 ] **Visual:** The slide changes to a white background. On the left, the circular graphic and the 2x2 grid are clearly displayed again. On the right, the text \"Thank You\" is at the top, followed by \"Engage With Us\" and contact information: \"Book a Free 30-Minute Project Health Check\", \"Contact: Sajal@sugmsoft.com\", \"Website: www.linkedin.com/in/sajalsh\", and \"Upwork: www.upwork.com/freelancers/~01d28029e069b9fd9\".\n",
            "[ 00:01:47 ] **Audio:** Fix what broken.\n",
            "\n",
            "[ 00:01:50 ] **Audio:** Recover what matter. This is the promise of project turn around sprint.\n"
          ]
        }
      ]
    },
    {
      "cell_type": "code",
      "source": [],
      "metadata": {
        "id": "NiRy-HFEfT5m"
      },
      "execution_count": null,
      "outputs": []
    }
  ]
}